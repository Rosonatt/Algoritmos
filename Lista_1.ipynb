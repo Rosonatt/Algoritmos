{
 "cells": [
  {
   "cell_type": "markdown",
   "metadata": {},
   "source": [
    "1. Olá, Mundo! \n",
    "Escreva um programa que imprime \"Olá, Mundo!\" na tela."
   ]
  },
  {
   "cell_type": "code",
   "execution_count": 4,
   "metadata": {},
   "outputs": [
    {
     "name": "stdout",
     "output_type": "stream",
     "text": [
      "olá, mundo\n"
     ]
    }
   ],
   "source": [
    "print(f\"olá, mundo\")"
   ]
  },
  {
   "cell_type": "markdown",
   "metadata": {},
   "source": [
    "2. Soma de Dois Números \n",
    "Peça ao usuário para digitar dois números e imprima a soma deles."
   ]
  },
  {
   "cell_type": "code",
   "execution_count": 2,
   "metadata": {},
   "outputs": [
    {
     "name": "stdout",
     "output_type": "stream",
     "text": [
      "a soma dos  numeros escolhidos é 3.0\n"
     ]
    }
   ],
   "source": [
    "num_1 = float(input(\"digite um numero\"))\n",
    "num_2 =  float(input(\"digite outro numero\"))\n",
    "\n",
    "soma  =  num_1 + num_2\n",
    "\n",
    "print (f\"a soma dos  numeros escolhidos é\", soma)"
   ]
  },
  {
   "cell_type": "markdown",
   "metadata": {},
   "source": [
    "3. Verificar Par ou Ímpar \n",
    "Peça ao usuário para digitar um número inteiro e informe se o número é par ou ímpar."
   ]
  },
  {
   "cell_type": "code",
   "execution_count": 3,
   "metadata": {},
   "outputs": [
    {
     "name": "stdout",
     "output_type": "stream",
     "text": [
      "o numero 15 e impar\n"
     ]
    }
   ],
   "source": [
    "dig_1 = int(input(\"Digite um numero inteiro:\"))\n",
    "if  dig_1 % 3 == 0 and dig_1 % 5 == 0:\n",
    "    print(f\"O numero {dig_1} e impar\")\n",
    "else:\n",
    "    print(f\"O numero {dig_1} e par\")\n"
   ]
  },
  {
   "cell_type": "markdown",
   "metadata": {},
   "source": [
    "4. Calculadora Simples \n",
    "Crie um programa que peça dois números e a operação desejada (+, -, *, /) e exiba o resultado."
   ]
  },
  {
   "cell_type": "code",
   "execution_count": 9,
   "metadata": {},
   "outputs": [
    {
     "name": "stdout",
     "output_type": "stream",
     "text": [
      "a resposta da operação  3.0 - 3.0 é 0.0\n"
     ]
    }
   ],
   "source": [
    "dig_1 = float(input(f\"Digite um numero:\"))\n",
    "dig_2 = float(input(f\"Digite o segundo numero:\"))\n",
    "\n",
    "operaçáo_desejada  = input(f\"Escolha uma dessas operações (+, -, *, /):\")\n",
    "\n",
    "if operaçáo_desejada == \"+\":\n",
    "  resposta =  dig_1 + dig_2\n",
    "  print (f\"A resposta da operação  {dig_1} + {dig_2 } é {resposta}\")\n",
    "\n",
    "elif operaçáo_desejada == \"-\":\n",
    "  resposta =dig_1 - dig_2\n",
    "  print (f\"A resposta da operação  {dig_1} - {dig_2 } é {resposta}\")\n",
    "\n",
    "elif operaçáo_desejada == \"*\":\n",
    "  resposta = dig_1 * dig_2\n",
    "  print (f\"A resposta da operação  {dig_1} * {dig_2 } é {resposta}\")\n",
    "\n",
    "elif operaçáo_desejada == \"/\":\n",
    "  resposta =  dig_1 / dig_2\n",
    "  print (f\"A resposta da operação  {dig_1} / {dig_2 }é {resposta}\")"
   ]
  },
  {
   "cell_type": "markdown",
   "metadata": {},
   "source": [
    "5. Média de Notas \n",
    "Peça ao usuário para digitar três notas e calcule a média delas."
   ]
  },
  {
   "cell_type": "code",
   "execution_count": 1,
   "metadata": {},
   "outputs": [
    {
     "name": "stdout",
     "output_type": "stream",
     "text": [
      "a sua media é 7.333333\n"
     ]
    }
   ],
   "source": [
    "nota_1 = float(input(f\"Digite a primeira nota:\"))\n",
    "nota_2 =  float(input(f\"Digitea segunda nota:\"))\n",
    "nota_3  =  float(input(f\"Digite a terceira nota:\")) \n",
    "\n",
    "media =  (nota_1 + nota_2 + nota_3) / 3\n",
    "\n",
    "print(f\"A sua media é {media:2f}\")"
   ]
  },
  {
   "cell_type": "markdown",
   "metadata": {},
   "source": [
    "6.Converter Celsius para Fahrenheit \n",
    "Escreva um programa que converta uma temperatura de graus Celsius para Fahrenheit."
   ]
  },
  {
   "cell_type": "code",
   "execution_count": 16,
   "metadata": {},
   "outputs": [
    {
     "name": "stdout",
     "output_type": "stream",
     "text": [
      "A tenperatura  de 32.0 Celsius e equivalente a 89.6 Fahrenheit!\n"
     ]
    }
   ],
   "source": [
    "Celsius  =  float(input(f\"Informe a temperatura em \"\"Celsius:\"))\n",
    "Fahrenheit =  ((9*Celsius)/5)+32\n",
    "\n",
    "print(f\"A tenperatura  de {Celsius} Celsius e equivalente a {Fahrenheit} Fahrenheit!\".format(Celsius,Fahrenheit))"
   ]
  },
  {
   "cell_type": "markdown",
   "metadata": {},
   "source": [
    "7. Fatorial de um Número \n",
    "Peça ao usuário para digitar um número e calcule o fatorial desse número."
   ]
  },
  {
   "cell_type": "code",
   "execution_count": 6,
   "metadata": {},
   "outputs": [
    {
     "name": "stdout",
     "output_type": "stream",
     "text": [
      "O fatorial de 10 é 3628800\n"
     ]
    }
   ],
   "source": [
    "from math import factorial\n",
    "dig_n = int(input(f\"Digite um número:\"))\n",
    "fatorial_n =  factorial(dig_n)\n",
    "\n",
    "print(f\"O fatorial de {dig_n} é {fatorial_n}\")"
   ]
  },
  {
   "cell_type": "markdown",
   "metadata": {},
   "source": [
    "8. Contagem de Números Ímpares \n",
    "Escreva um programa que conta e imprime todos os números ímpares entre 1 e 100."
   ]
  },
  {
   "cell_type": "code",
   "execution_count": 9,
   "metadata": {},
   "outputs": [
    {
     "name": "stdout",
     "output_type": "stream",
     "text": [
      "1,3,5,7,9,11,13,15,17,19,21,23,25,27,29,31,33,35,37,39,41,43,45,47,49,51,53,55,57,59,61,63,65,67,69,71,73,75,77,79,81,83,85,87,89,91,93,95,97,99,"
     ]
    }
   ],
   "source": [
    "\n",
    "for i in range(1,101):\n",
    "     if i % 2  != 0:\n",
    "          \n",
    "          print(i, end=\",\")\n"
   ]
  },
  {
   "cell_type": "markdown",
   "metadata": {},
   "source": [
    " 9. Verificar Número Primo \n",
    "Peça ao usuário para digitar um número e verifique se ele é primo.\n"
   ]
  },
  {
   "cell_type": "code",
   "execution_count": 13,
   "metadata": {},
   "outputs": [
    {
     "name": "stdout",
     "output_type": "stream",
     "text": [
      "7, é um numero primo? é primo\n"
     ]
    }
   ],
   "source": [
    "def Primo (numero):\n",
    "    if numero <= 1:\n",
    "        return f\"Não é primo\"\n",
    "    for i in range(2, numero//2):\n",
    "        if numero % i == 0:\n",
    "            return f\"Não é primo\"\n",
    "    return f\" é primo\" \n",
    "\n",
    "digitar_n =  int(input(f\"'Digite o número:\"))\n",
    "resposta = Primo(digitar_n)\n",
    "\n",
    "print (f\"{digitar_n }, é um numero primo?{resposta}\")\n",
    "\n"
   ]
  },
  {
   "cell_type": "markdown",
   "metadata": {},
   "source": [
    "10. Inverter uma String \n",
    "Peça ao usuário para digitar uma string e imprima essa string de forma invertida.\n"
   ]
  },
  {
   "cell_type": "code",
   "execution_count": 21,
   "metadata": {},
   "outputs": [
    {
     "name": "stdout",
     "output_type": "stream",
     "text": [
      "a a inversáo é ocnic e atnerauq\n"
     ]
    }
   ],
   "source": [
    "digitar_string =  input(f\"digite uma frase\")\n",
    "inverso  =  digitar_string [::-1]\n",
    "print(f\"a a inversáo é\", inverso)\n",
    "\n",
    "\n",
    "\n",
    " "
   ]
  }
 ],
 "metadata": {
  "kernelspec": {
   "display_name": "Python 3",
   "language": "python",
   "name": "python3"
  },
  "language_info": {
   "codemirror_mode": {
    "name": "ipython",
    "version": 3
   },
   "file_extension": ".py",
   "mimetype": "text/x-python",
   "name": "python",
   "nbconvert_exporter": "python",
   "pygments_lexer": "ipython3",
   "version": "3.12.2"
  }
 },
 "nbformat": 4,
 "nbformat_minor": 2
}
