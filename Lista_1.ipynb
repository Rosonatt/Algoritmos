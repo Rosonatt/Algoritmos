{
 "cells": [
  {
   "cell_type": "markdown",
   "metadata": {},
   "source": [
    "1. Olá, Mundo! \n",
    "Escreva um programa que imprime \"Olá, Mundo!\" na tela."
   ]
  },
  {
   "cell_type": "code",
   "execution_count": 4,
   "metadata": {},
   "outputs": [
    {
     "name": "stdout",
     "output_type": "stream",
     "text": [
      "olá, mundo\n"
     ]
    }
   ],
   "source": [
    "print(f\"olá, mundo\")"
   ]
  },
  {
   "cell_type": "markdown",
   "metadata": {},
   "source": [
    "2. Soma de Dois Números \n",
    "Peça ao usuário para digitar dois números e imprima a soma deles."
   ]
  },
  {
   "cell_type": "code",
   "execution_count": 2,
   "metadata": {},
   "outputs": [
    {
     "name": "stdout",
     "output_type": "stream",
     "text": [
      "a soma dos  numeros escolhidos é 3.0\n"
     ]
    }
   ],
   "source": [
    "num_1 = float(input(\"digite um numero\"))\n",
    "num_2 =  float(input(\"digite outro numero\"))\n",
    "\n",
    "soma  =  num_1 + num_2\n",
    "\n",
    "print (f\"a soma dos  numeros escolhidos é\", soma)"
   ]
  },
  {
   "cell_type": "markdown",
   "metadata": {},
   "source": [
    "3. Verificar Par ou Ímpar \n",
    "Peça ao usuário para digitar um número inteiro e informe se o número é par ou ímpar."
   ]
  },
  {
   "cell_type": "code",
   "execution_count": 3,
   "metadata": {},
   "outputs": [
    {
     "name": "stdout",
     "output_type": "stream",
     "text": [
      "o numero 15 e impar\n"
     ]
    }
   ],
   "source": [
    "dig_1 = int(input(\"Digite um numero inteiro:\"))\n",
    "if  dig_1 % 3 == 0 and dig_1 % 5 == 0:\n",
    "    print(f\"O numero {dig_1} e impar\")\n",
    "else:\n",
    "    print(f\"O numero {dig_1} e par\")\n"
   ]
  },
  {
   "cell_type": "markdown",
   "metadata": {},
   "source": [
    "4. Calculadora Simples \n",
    "Crie um programa que peça dois números e a operação desejada (+, -, *, /) e exiba o resultado."
   ]
  },
  {
   "cell_type": "code",
   "execution_count": 9,
   "metadata": {},
   "outputs": [
    {
     "name": "stdout",
     "output_type": "stream",
     "text": [
      "a resposta da operação  3.0 - 3.0 é 0.0\n"
     ]
    }
   ],
   "source": [
    "dig_1 = float(input(f\"Digite um numero:\"))\n",
    "dig_2 = float(input(f\"Digite o segundo numero:\"))\n",
    "\n",
    "operaçáo_desejada  = input(f\"Escolha uma dessas operações (+, -, *, /):\")\n",
    "\n",
    "if operaçáo_desejada == \"+\":\n",
    "  resposta =  dig_1 + dig_2\n",
    "  print (f\"A resposta da operação  {dig_1} + {dig_2 } é {resposta}\")\n",
    "\n",
    "elif operaçáo_desejada == \"-\":\n",
    "  resposta =dig_1 - dig_2\n",
    "  print (f\"A resposta da operação  {dig_1} - {dig_2 } é {resposta}\")\n",
    "\n",
    "elif operaçáo_desejada == \"*\":\n",
    "  resposta = dig_1 * dig_2\n",
    "  print (f\"A resposta da operação  {dig_1} * {dig_2 } é {resposta}\")\n",
    "\n",
    "elif operaçáo_desejada == \"/\":\n",
    "  resposta =  dig_1 / dig_2\n",
    "  print (f\"A resposta da operação  {dig_1} / {dig_2 }é {resposta}\")"
   ]
  },
  {
   "cell_type": "markdown",
   "metadata": {},
   "source": [
    "5. Média de Notas \n",
    "Peça ao usuário para digitar três notas e calcule a média delas."
   ]
  },
  {
   "cell_type": "code",
   "execution_count": 1,
   "metadata": {},
   "outputs": [
    {
     "name": "stdout",
     "output_type": "stream",
     "text": [
      "a sua media é 7.333333\n"
     ]
    }
   ],
   "source": [
    "nota_1 = float(input(f\"Digite a primeira nota:\"))\n",
    "nota_2 =  float(input(f\"Digitea segunda nota:\"))\n",
    "nota_3  =  float(input(f\"Digite a terceira nota:\")) \n",
    "\n",
    "media =  (nota_1 + nota_2 + nota_3) / 3\n",
    "\n",
    "print(f\"A sua media é {media:2f}\")"
   ]
  },
  {
   "cell_type": "markdown",
   "metadata": {},
   "source": [
    "6.Converter Celsius para Fahrenheit \n",
    "Escreva um programa que converta uma temperatura de graus Celsius para Fahrenheit."
   ]
  },
  {
   "cell_type": "code",
   "execution_count": 16,
   "metadata": {},
   "outputs": [
    {
     "name": "stdout",
     "output_type": "stream",
     "text": [
      "A tenperatura  de 32.0 Celsius e equivalente a 89.6 Fahrenheit!\n"
     ]
    }
   ],
   "source": [
    "Celsius  =  float(input(f\"Informe a temperatura em \"\"Celsius:\"))\n",
    "Fahrenheit =  ((9*Celsius)/5)+32\n",
    "\n",
    "print(f\"A tenperatura  de {Celsius} Celsius e equivalente a {Fahrenheit} Fahrenheit!\".format(Celsius,Fahrenheit))"
   ]
  },
  {
   "cell_type": "markdown",
   "metadata": {},
   "source": [
    "7. Fatorial de um Número \n",
    "Peça ao usuário para digitar um número e calcule o fatorial desse número."
   ]
  },
  {
   "cell_type": "code",
   "execution_count": 6,
   "metadata": {},
   "outputs": [
    {
     "name": "stdout",
     "output_type": "stream",
     "text": [
      "O fatorial de 10 é 3628800\n"
     ]
    }
   ],
   "source": [
    "from math import factorial\n",
    "dig_n = int(input(f\"Digite um número:\"))\n",
    "fatorial_n =  factorial(dig_n)\n",
    "\n",
    "print(f\"O fatorial de {dig_n} é {fatorial_n}\")"
   ]
  },
  {
   "cell_type": "markdown",
   "metadata": {},
   "source": [
    "8. Contagem de Números Ímpares \n",
    "Escreva um programa que conta e imprime todos os números ímpares entre 1 e 100."
   ]
  },
  {
   "cell_type": "code",
   "execution_count": 9,
   "metadata": {},
   "outputs": [
    {
     "name": "stdout",
     "output_type": "stream",
     "text": [
      "1,3,5,7,9,11,13,15,17,19,21,23,25,27,29,31,33,35,37,39,41,43,45,47,49,51,53,55,57,59,61,63,65,67,69,71,73,75,77,79,81,83,85,87,89,91,93,95,97,99,"
     ]
    }
   ],
   "source": [
    "\n",
    "for i in range(1,101):\n",
    "     if i % 2  != 0:\n",
    "          \n",
    "          print(i, end=\",\")\n"
   ]
  },
  {
   "cell_type": "markdown",
   "metadata": {},
   "source": [
    " 9. Verificar Número Primo \n",
    "Peça ao usuário para digitar um número e verifique se ele é primo.\n"
   ]
  },
  {
   "cell_type": "code",
   "execution_count": 13,
   "metadata": {},
   "outputs": [
    {
     "name": "stdout",
     "output_type": "stream",
     "text": [
      "7, é um numero primo? é primo\n"
     ]
    }
   ],
   "source": [
    "def Primo (numero):\n",
    "    if numero <= 1:\n",
    "        return f\"Não é primo\"\n",
    "    for i in range(2, numero//2):\n",
    "        if numero % i == 0:\n",
    "            return f\"Não é primo\"\n",
    "    return f\" é primo\" \n",
    "\n",
    "digitar_n =  int(input(f\"'Digite o número:\"))\n",
    "resposta = Primo(digitar_n)\n",
    "\n",
    "print (f\"{digitar_n }, é um numero primo?{resposta}\")\n",
    "\n"
   ]
  },
  {
   "cell_type": "markdown",
   "metadata": {},
   "source": [
    "10. Inverter uma String \n",
    "Peça ao usuário para digitar uma string e imprima essa string de forma invertida.\n"
   ]
  },
  {
   "cell_type": "code",
   "execution_count": 21,
   "metadata": {},
   "outputs": [
    {
     "name": "stdout",
     "output_type": "stream",
     "text": [
      "a a inversáo é ocnic e atnerauq\n"
     ]
    }
   ],
   "source": [
    "digitar_string =  input(f\"digite uma frase\")\n",
    "inverso  =  digitar_string [::-1]\n",
    "print(f\"a a inversáo é\", inverso)\n",
    "\n",
    "\n",
    "\n",
    " "
   ]
  },
  {
   "cell_type": "markdown",
   "metadata": {},
   "source": [
    "11. Tabuada \n",
    "Peça ao usuário para digitar um número e imprima a tabuada desse número de 1 a 10"
   ]
  },
  {
   "cell_type": "code",
   "execution_count": 2,
   "metadata": {},
   "outputs": [
    {
     "name": "stdout",
     "output_type": "stream",
     "text": [
      "_____________\n",
      "4 x  1 = 4\n",
      "4 x  2 = 8\n",
      "4 x  3 = 12\n",
      "4 x  4 = 16\n",
      "4 x  5 = 20\n",
      "4 x  6 = 24\n",
      "4 x  7 = 28\n",
      "4 x  8 = 32\n",
      "4 x  9 = 36\n",
      "4 x 10 = 40\n",
      "_____________\n"
     ]
    }
   ],
   "source": [
    "num_tab = int(input(f\"Digite um numero inteiro:\"))\n",
    "print (\"_\" *13)\n",
    "print (\"{} x {:2} = {}\".format(num_tab, 1, num_tab*1))\n",
    "print (\"{} x {:2} = {}\".format(num_tab, 2, num_tab*2))\n",
    "print (\"{} x {:2} = {}\".format(num_tab, 3, num_tab*3))\n",
    "print (\"{} x {:2} = {}\".format(num_tab, 4, num_tab*4))\n",
    "print (\"{} x {:2} = {}\".format(num_tab, 5, num_tab*5))\n",
    "print (\"{} x {:2} = {}\".format(num_tab, 6, num_tab*6))\n",
    "print (\"{} x {:2} = {}\".format(num_tab, 7, num_tab*7))\n",
    "print (\"{} x {:2} = {}\".format(num_tab, 8, num_tab*8))\n",
    "print (\"{} x {:2} = {}\".format(num_tab, 9, num_tab*9))\n",
    "print (\"{} x {:2} = {}\".format(num_tab, 10, num_tab*10))\n",
    "print (\"_\" *13)"
   ]
  },
  {
   "cell_type": "markdown",
   "metadata": {},
   "source": [
    " 12. Contar Vogais em uma String \n",
    "Escreva um programa que conte o número de vogais em uma string fornecida pelo usuário."
   ]
  },
  {
   "cell_type": "code",
   "execution_count": 9,
   "metadata": {},
   "outputs": [
    {
     "name": "stdout",
     "output_type": "stream",
     "text": [
      "A palavra ' beterraba' contém 4 vogais.\n"
     ]
    }
   ],
   "source": [
    "\n",
    "def verificar_vogal(c):\n",
    "    vogais = \"aeiou\"\n",
    "    return c.lower() in vogais\n",
    "\n",
    "def contar_vogais(s):\n",
    "    s = s.lower()\n",
    "    soma = 0\n",
    "    for c in s:\n",
    "        if verificar_vogal(c):\n",
    "            soma += 1\n",
    "    return soma\n",
    "\n",
    "entrada = input(\"Digite uma palavra para contar o número de vogais: \")\n",
    "numero_de_vogais = contar_vogais(entrada)\n",
    "print(f\"A palavra '{entrada}' contém {numero_de_vogais} vogais.\")\n",
    "  "
   ]
  },
  {
   "cell_type": "markdown",
   "metadata": {},
   "source": [
    "13. Soma dos Elementos de uma Lista \n",
    "Crie uma lista de números e escreva um programa que some todos os elementos dessa lista.\n"
   ]
  },
  {
   "cell_type": "code",
   "execution_count": 6,
   "metadata": {},
   "outputs": [
    {
     "name": "stdout",
     "output_type": "stream",
     "text": [
      "[2, -6, 7, 8]\n",
      "Soma dos elementos = 11.00\n"
     ]
    }
   ],
   "source": [
    "def somaLista(lista1):\n",
    "  soma = 0\n",
    "  for i in lista1:\n",
    "    soma = soma + i\n",
    "  return soma\n",
    "\n",
    "lista1 = [3, -7, 8, 9]\n",
    "soma   = somaLista(lista1)\n",
    "print(lista1)\n",
    "print(\"Soma dos elementos = {0:.2f}\".format(soma))"
   ]
  },
  {
   "cell_type": "markdown",
   "metadata": {},
   "source": [
    "14. Encontrar o Maior Número em uma Lista \n",
    "Peça ao usuário para digitar uma lista de números e exiba o maior número dessa lista."
   ]
  },
  {
   "cell_type": "code",
   "execution_count": 8,
   "metadata": {},
   "outputs": [
    {
     "name": "stdout",
     "output_type": "stream",
     "text": [
      "O maior número da lista é 121212121.0.\n"
     ]
    }
   ],
   "source": [
    "entrada = input(f\"Digite uma lista de números separados por espaço: \")\n",
    "lista_de_numeros = [float(num) for num in entrada.split()]\n",
    "\n",
    "if lista_de_numeros:\n",
    "    maior_numero = max(lista_de_numeros)\n",
    "    print(f\"O maior número da lista é {maior_numero}.\")\n",
    "else:\n",
    "    print(f\"A lista está vazia.\")\n",
    "\n"
   ]
  },
  {
   "cell_type": "markdown",
   "metadata": {},
   "source": [
    " 15. Números Pares em uma Lista \n",
    "Dada uma lista de números, crie um programa que exiba apenas os números pares."
   ]
  },
  {
   "cell_type": "code",
   "execution_count": 14,
   "metadata": {},
   "outputs": [
    {
     "name": "stdout",
     "output_type": "stream",
     "text": [
      "[2, 6, 8, 6, 4]\n"
     ]
    }
   ],
   "source": [
    "def separar_pares(lista):\n",
    "    lista_pares = []  \n",
    "    for i in range(len(lista)):\n",
    "        if lista[i] % 2 == 0:\n",
    "            lista_pares.append(lista[i]) \n",
    "    return lista_pares  \n",
    "lista = [2, 5, 6, 3, 8, 3, 6, 4, 5, 1]  \n",
    "lista_p = separar_pares(lista)   \n",
    "print(lista_p)\n"
   ]
  },
  {
   "cell_type": "markdown",
   "metadata": {},
   "source": [
    "16. Contagem Regressiva \n",
    "Escreva um programa que faça uma contagem regressiva de 10 a 0, imprimindo os números na tela.\n"
   ]
  },
  {
   "cell_type": "code",
   "execution_count": 24,
   "metadata": {},
   "outputs": [
    {
     "name": "stdout",
     "output_type": "stream",
     "text": [
      "10,9,8,7,6,5,4,3,2,1,0,"
     ]
    }
   ],
   "source": [
    "import time\n",
    "for contagem in range(10, -1, -1):\n",
    "  \n",
    "    print(contagem,end = (\",\"))\n",
    "    time.sleep(0.8)\n"
   ]
  },
  {
   "cell_type": "markdown",
   "metadata": {},
   "source": [
    "17. Calculando a Sequência de Fibonacci \n",
    "Escreva um programa que gera os primeiros 10 números da sequência de Fibonacci.\n"
   ]
  },
  {
   "cell_type": "code",
   "execution_count": 25,
   "metadata": {},
   "outputs": [
    {
     "name": "stdout",
     "output_type": "stream",
     "text": [
      "Os primeiros 10 números da sequência de Fibonacci são:\n",
      "[0, 1, 1, 2, 3, 5, 8, 13, 21, 34]\n"
     ]
    }
   ],
   "source": [
    "def fibonacci(n):\n",
    "    if n <= 0:\n",
    "        return 0\n",
    "    elif n == 1:\n",
    "        return 1\n",
    "    else:\n",
    "        return fibonacci(n - 1) + fibonacci(n - 2)\n",
    "\n",
    "def gerar_fibonacci(n):\n",
    "    return [fibonacci(i) for i in range(n)]\n",
    "\n",
    "\n",
    "print(f\"Os primeiros 10 números da sequência de Fibonacci são:\")\n",
    "print(gerar_fibonacci(10))\n"
   ]
  },
  {
   "cell_type": "markdown",
   "metadata": {},
   "source": [
    "18. Simulação de Lançamento de Moeda \n",
    "Crie um programa que simule o lançamento de uma moeda (cara ou coroa) e exiba o resultado."
   ]
  },
  {
   "cell_type": "code",
   "execution_count": 29,
   "metadata": {},
   "outputs": [
    {
     "name": "stdout",
     "output_type": "stream",
     "text": [
      "O resultado do lançamento da moeda é: cara\n"
     ]
    }
   ],
   "source": [
    "import random\n",
    "\n",
    "resultado_ale = random.choice([True, False])\n",
    "\n",
    "if resultado_ale:\n",
    "    resultado = f'cara'\n",
    "else:\n",
    "    resultado = f'coroa'\n",
    "\n",
    "print(f\"O resultado do lançamento da moeda é: {resultado}\")\n"
   ]
  },
  {
   "cell_type": "markdown",
   "metadata": {},
   "source": [
    "19.Verificar Palíndromo \n",
    "Peça ao usuário para digitar uma palavra e verifique se ela é um palíndromo (lê-se da mesma forma de trás para frente)."
   ]
  },
  {
   "cell_type": "code",
   "execution_count": 33,
   "metadata": {},
   "outputs": [
    {
     "name": "stdout",
     "output_type": "stream",
     "text": [
      "A palavra 'arara' é uma palavra palíndromo.\n"
     ]
    }
   ],
   "source": [
    "\n",
    "palavra = input(f\"Digite uma palavra para verificar se é um palíndromo: \")\n",
    "\n",
    "palavra_n = palavra.lower()\n",
    "if palavra_n == palavra_n[::-1]:\n",
    "    print(f\"A palavra '{palavra}' é uma palavra palíndromo.\")\n",
    "else:\n",
    "    print(f\"A palavra '{palavra}' não é uma palavra palíndromo.\")\n"
   ]
  },
  {
   "cell_type": "markdown",
   "metadata": {},
   "source": [
    "20. Jogo de Adivinhação \n",
    "Crie um programa onde o computador escolhe um número aleatório entre 1 e 100 e o usuário deve tentar adivinhar o número. O programa deve dar dicas se o número escolhido é maior ou menor que a tentativa do usuário."
   ]
  },
  {
   "cell_type": "code",
   "execution_count": 7,
   "metadata": {},
   "outputs": [
    {
     "name": "stdout",
     "output_type": "stream",
     "text": [
      "ola, Tente adivinhar um número entre 1 e 100.\n"
     ]
    }
   ],
   "source": [
    "import random\n",
    "\n",
    "nnum_alea = random.randint(1, 100)\n",
    "\n",
    "print(f\"ola, Tente adivinhar um número entre 1 e 100.\")\n",
    "\n",
    "while True:\n",
    "    tentativa = int(input(f\"Qual é o seu palpite: \"))\n",
    "    \n",
    "    if tentativa < nnum_alea:\n",
    "        print(f\"Tente um numero maior.\")\n",
    "    elif tentativa > nnum_alea:\n",
    "        print(f\"Tente um numero menor.\")\n",
    "    else:\n",
    "        print(f\"Parabéns!  vocë acertou o numero é {nnum_alea}.\")\n",
    "        break\n"
   ]
  }
 ],
 "metadata": {
  "kernelspec": {
   "display_name": "Python 3",
   "language": "python",
   "name": "python3"
  },
  "language_info": {
   "codemirror_mode": {
    "name": "ipython",
    "version": 3
   },
   "file_extension": ".py",
   "mimetype": "text/x-python",
   "name": "python",
   "nbconvert_exporter": "python",
   "pygments_lexer": "ipython3",
   "version": "3.12.2"
  }
 },
 "nbformat": 4,
 "nbformat_minor": 2
}
